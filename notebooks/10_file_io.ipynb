{
 "cells": [
  {
   "cell_type": "markdown",
   "metadata": {},
   "source": [
    "# File Input and Output Operations\n",
    "\n",
    "A basic way to start working with data"
   ]
  },
  {
   "cell_type": "markdown",
   "metadata": {},
   "source": [
    "Text\n",
    "==="
   ]
  },
  {
   "cell_type": "code",
   "execution_count": 73,
   "metadata": {},
   "outputs": [],
   "source": [
    "file1 = open(\"example.txt\",\"w\") # use 'a' for appending to a file\n",
    "text = \"Hello \\n\"\n",
    "file1.write(text)\n",
    "#file1.writelines(text) to write LINES\n",
    "file1.close()"
   ]
  },
  {
   "cell_type": "code",
   "execution_count": 75,
   "metadata": {},
   "outputs": [
    {
     "name": "stdout",
     "output_type": "stream",
     "text": [
      "Hello \n",
      "\n"
     ]
    }
   ],
   "source": [
    "file1 = open(\"example.txt\",\"r\")  \n",
    "  \n",
    "text = file1.read() \n",
    "#file1.readlines() to read LINES\n",
    "\n",
    "print(text)\n",
    "  "
   ]
  },
  {
   "cell_type": "markdown",
   "metadata": {},
   "source": [
    "CSV\n",
    "===\n",
    "Comma Separated Values"
   ]
  },
  {
   "cell_type": "code",
   "execution_count": 82,
   "metadata": {},
   "outputs": [
    {
     "data": {
      "text/plain": [
       "['Mighty Morphin Red Ranger,Jason Lee Scott,Tyrannosaurus',\n",
       " 'Mighty Morphin Yellow Ranger,Trini Kwan,Saber-Toothed Tiger',\n",
       " 'Mighty Morphin Blue Ranger,Billy Cranston,Triceratops',\n",
       " 'Mighty Morphin Pink Ranger,Kimberly Ann Hart,Pterodactyl',\n",
       " 'Mighty Morphin Black Ranger,Zack Taylor,Mastodon',\n",
       " 'Mighty Morphin Green Ranger,Tommy Oliver,Dragonzord']"
      ]
     },
     "execution_count": 82,
     "metadata": {},
     "output_type": "execute_result"
    }
   ],
   "source": [
    "csv_text = \"\"\"Mighty Morphin Red Ranger,Jason Lee Scott,Tyrannosaurus\n",
    "Mighty Morphin Yellow Ranger,Trini Kwan,Saber-Toothed Tiger\n",
    "Mighty Morphin Blue Ranger,Billy Cranston,Triceratops\n",
    "Mighty Morphin Pink Ranger,Kimberly Ann Hart,Pterodactyl\n",
    "Mighty Morphin Black Ranger,Zack Taylor,Mastodon\n",
    "Mighty Morphin Green Ranger,Tommy Oliver,Dragonzord\"\"\"\n",
    "\n",
    "csv_text = csv_text.split('\\n')\n",
    "csv_text"
   ]
  },
  {
   "cell_type": "code",
   "execution_count": 83,
   "metadata": {},
   "outputs": [
    {
     "data": {
      "text/plain": [
       "[['Mighty Morphin Red Ranger', 'Jason Lee Scott', 'Tyrannosaurus'],\n",
       " ['Mighty Morphin Yellow Ranger', 'Trini Kwan', 'Saber-Toothed Tiger'],\n",
       " ['Mighty Morphin Blue Ranger', 'Billy Cranston', 'Triceratops'],\n",
       " ['Mighty Morphin Pink Ranger', 'Kimberly Ann Hart', 'Pterodactyl'],\n",
       " ['Mighty Morphin Black Ranger', 'Zack Taylor', 'Mastodon'],\n",
       " ['Mighty Morphin Green Ranger', 'Tommy Oliver', 'Dragonzord']]"
      ]
     },
     "execution_count": 83,
     "metadata": {},
     "output_type": "execute_result"
    }
   ],
   "source": [
    "csv_text_list = []\n",
    "for row in csv_text:\n",
    "    csv_text_list.append(row.split(\",\"))\n",
    "    \n",
    "csv_text_list"
   ]
  },
  {
   "cell_type": "code",
   "execution_count": 91,
   "metadata": {},
   "outputs": [
    {
     "name": "stdout",
     "output_type": "stream",
     "text": [
      "Mighty Morphin Red Ranger,Jason Lee Scott,Tyrannosaurus\n",
      "Mighty Morphin Yellow Ranger,Trini Kwan,Saber-Toothed Tiger\n",
      "Mighty Morphin Blue Ranger,Billy Cranston,Triceratops\n",
      "Mighty Morphin Pink Ranger,Kimberly Ann Hart,Pterodactyl\n",
      "Mighty Morphin Black Ranger,Zack Taylor,Mastodon\n",
      "Mighty Morphin Green Ranger,Tommy Oliver,Dragonzord\n"
     ]
    }
   ],
   "source": [
    "for row in csv_text_list:\n",
    "    tmp_text = \",\".join(row)\n",
    "    print(tmp_text)"
   ]
  },
  {
   "cell_type": "code",
   "execution_count": 102,
   "metadata": {},
   "outputs": [],
   "source": [
    "file1 = open(\"example.csv\",\"w\") # use 'a' for appending to a file\n",
    "\n",
    "text_list = []\n",
    "for row in csv_text_list:\n",
    "    tmp_text = \",\".join(row)\n",
    "    text_list.append(tmp_text+\"\\n\")\n",
    "file1.writelines(text_list)\n",
    "file1.close()"
   ]
  },
  {
   "cell_type": "code",
   "execution_count": 103,
   "metadata": {},
   "outputs": [
    {
     "name": "stdout",
     "output_type": "stream",
     "text": [
      "['Mighty Morphin Red Ranger,Jason Lee Scott,Tyrannosaurus\\n', 'Mighty Morphin Yellow Ranger,Trini Kwan,Saber-Toothed Tiger\\n', 'Mighty Morphin Blue Ranger,Billy Cranston,Triceratops\\n', 'Mighty Morphin Pink Ranger,Kimberly Ann Hart,Pterodactyl\\n', 'Mighty Morphin Black Ranger,Zack Taylor,Mastodon\\n', 'Mighty Morphin Green Ranger,Tommy Oliver,Dragonzord\\n']\n"
     ]
    }
   ],
   "source": [
    "file1 = open(\"example.csv\",\"r\")  \n",
    "  \n",
    "text = file1.readlines() \n",
    "print(text)\n",
    "  "
   ]
  },
  {
   "cell_type": "code",
   "execution_count": 112,
   "metadata": {},
   "outputs": [
    {
     "name": "stdout",
     "output_type": "stream",
     "text": [
      "Mighty Morphin Red Ranger Jason Lee Scott Tyrannosaurus \n",
      "Mighty Morphin Yellow Ranger Trini Kwan Saber-Toothed Tiger \n",
      "Mighty Morphin Blue Ranger Billy Cranston Triceratops \n",
      "Mighty Morphin Pink Ranger Kimberly Ann Hart Pterodactyl \n",
      "Mighty Morphin Black Ranger Zack Taylor Mastodon \n",
      "Mighty Morphin Green Ranger Tommy Oliver Dragonzord \n"
     ]
    }
   ],
   "source": [
    "for row in text:\n",
    "    for col in row.split(\",\"):\n",
    "        print(col.strip() , end = \" \")\n",
    "    print(\"\")"
   ]
  },
  {
   "cell_type": "markdown",
   "metadata": {},
   "source": [
    "Binary\n",
    "==="
   ]
  },
  {
   "cell_type": "markdown",
   "metadata": {},
   "source": [
    "    bytesliteral   ::=  bytesprefix(shortbytes | longbytes)\n",
    "    bytesprefix    ::=  \"b\" | \"B\" | \"br\" | \"Br\" | \"bR\" | \"BR\"\n",
    "    shortbytes     ::=  \"'\" shortbytesitem* \"'\" | '\"' shortbytesitem* '\"'\n",
    "    longbytes      ::=  \"'''\" longbytesitem* \"'''\" | '\"\"\"' longbytesitem* '\"\"\"'\n",
    "    shortbytesitem ::=  shortbyteschar | bytesescapeseq\n",
    "    longbytesitem  ::=  longbyteschar | bytesescapeseq\n",
    "    shortbyteschar ::=  <any ASCII character except \"\\\" or newline or the quote>\n",
    "    longbyteschar  ::=  <any ASCII character except \"\\\">\n",
    "    bytesescapeseq ::=  \"\\\" <any ASCII character>"
   ]
  },
  {
   "cell_type": "code",
   "execution_count": 29,
   "metadata": {},
   "outputs": [],
   "source": [
    "# How to write\n",
    "\n",
    "num=[1, 10, 15, 20, 25]\n",
    "arr=bytearray(num)\n",
    "\n",
    "f=open(\"binfile.bin\",\"wb\")\n",
    "f.write(arr)\n",
    "f.close()"
   ]
  },
  {
   "cell_type": "code",
   "execution_count": 16,
   "metadata": {},
   "outputs": [
    {
     "name": "stdout",
     "output_type": "stream",
     "text": [
      "[5, 10, 15, 20, 25]\n"
     ]
    }
   ],
   "source": [
    "# How to read\n",
    "\n",
    "f=open(\"binfile.bin\",\"rb\")\n",
    "num=list(f.read())\n",
    "f.close()\n",
    "\n",
    "print (num)"
   ]
  },
  {
   "cell_type": "markdown",
   "metadata": {},
   "source": [
    "Pickle\n",
    "==="
   ]
  },
  {
   "cell_type": "code",
   "execution_count": 67,
   "metadata": {},
   "outputs": [
    {
     "name": "stdout",
     "output_type": "stream",
     "text": [
      "Timmy => {'key': 'Timmy', 'name': 'Timmy Nooklet', 'age': 21, 'pay': 20000}\n",
      "Tommy => {'key': 'Tommy', 'name': 'Tommy Nooklet', 'age': 23, 'pay': 24000}\n"
     ]
    }
   ],
   "source": [
    "Timmy = {'key' : 'Timmy', 'name' : 'Timmy Nooklet', \n",
    "'age' : 21, 'pay' : 20000} \n",
    "Tommy = {'key' : 'Tommy', 'name' : 'Tommy Nooklet', \n",
    "'age' : 23, 'pay' : 24000}\n",
    "\n",
    "# database \n",
    "db = {} \n",
    "db['Timmy'] = Timmy \n",
    "db['Tommy'] = Tommy \n",
    "\n",
    "for keys in db: \n",
    "    print(keys, '=>', db[keys]) "
   ]
  },
  {
   "cell_type": "code",
   "execution_count": 68,
   "metadata": {},
   "outputs": [],
   "source": [
    "import pickle \n",
    "\n",
    "\n",
    "\n",
    "\n",
    "# Its important to use binary mode \n",
    "dbfile = open('example.pkl', 'wb') #\"ab\" if you want to append binary \n",
    "\n",
    "# source, destination \n",
    "pickle.dump(db, dbfile)                      \n",
    "dbfile.close() "
   ]
  },
  {
   "cell_type": "code",
   "execution_count": 69,
   "metadata": {},
   "outputs": [
    {
     "name": "stdout",
     "output_type": "stream",
     "text": [
      "Timmy => {'key': 'Timmy', 'name': 'Timmy Nooklet', 'age': 21, 'pay': 20000}\n",
      "Tommy => {'key': 'Tommy', 'name': 'Tommy Nooklet', 'age': 23, 'pay': 24000}\n"
     ]
    }
   ],
   "source": [
    "# for reading also binary mode is important \n",
    "dbfile = open('example.pkl', 'rb')      \n",
    "new_db = pickle.load(dbfile) \n",
    "dbfile.close()\n",
    "\n",
    "for keys in new_db: \n",
    "    print(keys, '=>', db[keys]) "
   ]
  },
  {
   "cell_type": "markdown",
   "metadata": {},
   "source": [
    "# JSON\n",
    "JavaScript Object Notation"
   ]
  },
  {
   "cell_type": "code",
   "execution_count": 70,
   "metadata": {},
   "outputs": [],
   "source": [
    "import json\n",
    "\n",
    "db = [\n",
    "    \n",
    "    {\n",
    "    \"userId\": 1,\n",
    "    \"id\": 1,\n",
    "    \"title\": \"The Philosopher's Stone\",\n",
    "    \"completed\": False\n",
    "    },\n",
    "    \n",
    "     {\n",
    "    \"userId\": 2,\n",
    "    \"id\": 2,\n",
    "    \"title\": \"The Chamber of Secrets\",\n",
    "    \"completed\": True\n",
    "    }\n",
    "]\n",
    "\n",
    "jsonfile = open('example.json', 'w') \n",
    "json.dump(db, jsonfile)\n",
    "jsonfile.close()"
   ]
  },
  {
   "cell_type": "code",
   "execution_count": 72,
   "metadata": {},
   "outputs": [
    {
     "name": "stdout",
     "output_type": "stream",
     "text": [
      "{'userId': 1, 'id': 1, 'title': \"The Philosopher's Stone\", 'completed': False}\n",
      "{'userId': 2, 'id': 2, 'title': 'The Chamber of Secrets', 'completed': True}\n"
     ]
    }
   ],
   "source": [
    " \n",
    "jsonfile = open('example.json', 'r') \n",
    "new_db = json.load(jsonfile)\n",
    "jsonfile.close()\n",
    "\n",
    "for keys in new_db: \n",
    "    print(keys) "
   ]
  },
  {
   "cell_type": "markdown",
   "metadata": {},
   "source": [
    "**NEXT TOPIC:** [terminal apps](11_terminal_apps.ipynb)"
   ]
  }
 ],
 "metadata": {
  "kernelspec": {
   "display_name": "Python 3",
   "language": "python",
   "name": "python3"
  },
  "language_info": {
   "codemirror_mode": {
    "name": "ipython",
    "version": 3
   },
   "file_extension": ".py",
   "mimetype": "text/x-python",
   "name": "python",
   "nbconvert_exporter": "python",
   "pygments_lexer": "ipython3",
   "version": "3.8.3"
  }
 },
 "nbformat": 4,
 "nbformat_minor": 1
}
